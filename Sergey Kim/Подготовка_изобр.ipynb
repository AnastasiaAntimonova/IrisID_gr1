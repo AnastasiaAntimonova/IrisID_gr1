{
  "nbformat": 4,
  "nbformat_minor": 0,
  "metadata": {
    "colab": {
      "provenance": [],
      "toc_visible": true,
      "authorship_tag": "ABX9TyNEhNXokFgqymhurS7TlqT/",
      "include_colab_link": true
    },
    "kernelspec": {
      "name": "python3",
      "display_name": "Python 3"
    },
    "language_info": {
      "name": "python"
    }
  },
  "cells": [
    {
      "cell_type": "markdown",
      "metadata": {
        "id": "view-in-github",
        "colab_type": "text"
      },
      "source": [
        "<a href=\"https://colab.research.google.com/github/Untick/IrisID_gr1/blob/Sergey-Kim-folder/Sergey%20Kim/%D0%9F%D0%BE%D0%B4%D0%B3%D0%BE%D1%82%D0%BE%D0%B2%D0%BA%D0%B0_%D0%B8%D0%B7%D0%BE%D0%B1%D1%80.ipynb\" target=\"_parent\"><img src=\"https://colab.research.google.com/assets/colab-badge.svg\" alt=\"Open In Colab\"/></a>"
      ]
    },
    {
      "cell_type": "markdown",
      "source": [
        "# Подключение к диску"
      ],
      "metadata": {
        "id": "IiZCz5LTbKhK"
      }
    },
    {
      "cell_type": "code",
      "source": [
        "from google.colab import drive\n",
        "drive.mount('/content/drive')"
      ],
      "metadata": {
        "colab": {
          "base_uri": "https://localhost:8080/"
        },
        "id": "AyYSMScwbQrE",
        "outputId": "e3e242f4-0df1-4638-833c-827165a000db"
      },
      "execution_count": 11,
      "outputs": [
        {
          "output_type": "stream",
          "name": "stdout",
          "text": [
            "Drive already mounted at /content/drive; to attempt to forcibly remount, call drive.mount(\"/content/drive\", force_remount=True).\n"
          ]
        }
      ]
    },
    {
      "cell_type": "markdown",
      "source": [
        "Подготовка изображений"
      ],
      "metadata": {
        "id": "V4oWErUTom2e"
      }
    },
    {
      "cell_type": "code",
      "execution_count": 12,
      "metadata": {
        "id": "5sjJ4-7Sm-Cr",
        "colab": {
          "base_uri": "https://localhost:8080/",
          "height": 35
        },
        "outputId": "76fb9a9b-06ed-4dd5-efb4-37eb47685b3e"
      },
      "outputs": [
        {
          "output_type": "execute_result",
          "data": {
            "text/plain": [
              "'Iris_ID.zip'"
            ],
            "application/vnd.google.colaboratory.intrinsic+json": {
              "type": "string"
            }
          },
          "metadata": {},
          "execution_count": 12
        }
      ],
      "source": [
        "# Подключение модуля для загрузки данных из облака\n",
        "import gdown \n",
        "\n",
        "# Загрузка zip-архива с датасетом из облака на диск виртуальной машины colab\n",
        "gdown.download('https://drive.google.com/uc?id=1-cVSZZ-qzSIBpxZRR5QcaUsotGFQY3Wh', None, quiet=True)"
      ]
    },
    {
      "cell_type": "markdown",
      "source": [
        "Распакуем данные и зададим имя папки с ними:"
      ],
      "metadata": {
        "id": "aNfUgPIxqcps"
      }
    },
    {
      "cell_type": "code",
      "source": [
        "# Разархивация датасета в директорию 'content/'\n",
        "!unzip -qo \"Iris_ID.zip\" -d /content/\n",
        "\n",
        "# Папка с картинками\n",
        "IMAGE_PATH = '/content/'"
      ],
      "metadata": {
        "id": "f0aqVDb5qk6F"
      },
      "execution_count": 13,
      "outputs": []
    },
    {
      "cell_type": "markdown",
      "source": [
        "Теперь посмотрим, что находится в загруженной базе. Для этого функцией listdir() из модуля os получим список папок по адресу IMAGE_PATH:"
      ],
      "metadata": {
        "id": "xNvMuLYRrdmr"
      }
    },
    {
      "cell_type": "code",
      "source": [
        "# Для работы с файлами\n",
        "import os\n",
        "import zipfile\n",
        "os.listdir(IMAGE_PATH)"
      ],
      "metadata": {
        "colab": {
          "base_uri": "https://localhost:8080/"
        },
        "id": "ZU1V-hjtrl_s",
        "outputId": "54825f8d-e0e8-4273-e92e-6e7bd883f1df"
      },
      "execution_count": 14,
      "outputs": [
        {
          "output_type": "execute_result",
          "data": {
            "text/plain": [
              "['.config',\n",
              " 'iris9_16.zip',\n",
              " 'iris41_48.zip',\n",
              " 'drive',\n",
              " 'iris33_40.zip',\n",
              " 'iris25_32.zip',\n",
              " 'iris57_64.zip',\n",
              " 'iris17_24.zip',\n",
              " 'Iris_ID.zip',\n",
              " 'iris49_56.zip',\n",
              " 'iris1_8.zip',\n",
              " 'sample_data']"
            ]
          },
          "metadata": {},
          "execution_count": 14
        }
      ]
    },
    {
      "cell_type": "markdown",
      "source": [
        "Распаковка изображений"
      ],
      "metadata": {
        "id": "HOdg9RFzV7K7"
      }
    },
    {
      "cell_type": "code",
      "source": [
        "def unpack_archives(folder_path, output_path):\n",
        "    for filename in os.listdir(folder_path):\n",
        "        file_path = os.path.join(folder_path, filename)\n",
        "        folder_name = filename.replace(\".zip\", \"\")\n",
        "        \n",
        "        if zipfile.is_zipfile(file_path):\n",
        "            with zipfile.ZipFile(file_path, 'r') as zip_file:\n",
        "                \n",
        "                zip_file.extractall(f\"{output_path}\")     "
      ],
      "metadata": {
        "id": "MhLB9GQlWAuz"
      },
      "execution_count": 15,
      "outputs": []
    },
    {
      "cell_type": "code",
      "source": [
        "folder_path = '/content/drive/MyDrive/Университет ИИ/6 стажир1 Радужка/'\n",
        "# folder_path = 'https://drive.google.com/file/d/1-cVSZZ-qzSIBpxZRR5QcaUsotGFQY3Wh/view?usp=sharing'\n",
        "output_path = '/content/IrisDataSource/patients/'\n",
        "result_path = '/content/IrisDataSource/patients_flat/'\n",
        "unpack_archives(folder_path, output_path)"
      ],
      "metadata": {
        "id": "2UQ5j-iNWyhL"
      },
      "execution_count": 16,
      "outputs": []
    },
    {
      "cell_type": "markdown",
      "source": [],
      "metadata": {
        "id": "BK5fMH5gbIl2"
      }
    }
  ]
}