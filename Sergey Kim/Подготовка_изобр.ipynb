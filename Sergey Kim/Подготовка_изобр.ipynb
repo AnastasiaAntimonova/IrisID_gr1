{
  "nbformat": 4,
  "nbformat_minor": 0,
  "metadata": {
    "colab": {
      "provenance": [],
      "toc_visible": true,
      "authorship_tag": "ABX9TyPhI/qYpWL0Xqq4qGOciqGA",
      "include_colab_link": true
    },
    "kernelspec": {
      "name": "python3",
      "display_name": "Python 3"
    },
    "language_info": {
      "name": "python"
    }
  },
  "cells": [
    {
      "cell_type": "markdown",
      "metadata": {
        "id": "view-in-github",
        "colab_type": "text"
      },
      "source": [
        "<a href=\"https://colab.research.google.com/github/Untick/IrisID_gr1/blob/Sergey-Kim-folder/Sergey%20Kim/%D0%9F%D0%BE%D0%B4%D0%B3%D0%BE%D1%82%D0%BE%D0%B2%D0%BA%D0%B0_%D0%B8%D0%B7%D0%BE%D0%B1%D1%80.ipynb\" target=\"_parent\"><img src=\"https://colab.research.google.com/assets/colab-badge.svg\" alt=\"Open In Colab\"/></a>"
      ]
    },
    {
      "cell_type": "markdown",
      "source": [
        "## Подключение к диску"
      ],
      "metadata": {
        "id": "IiZCz5LTbKhK"
      }
    },
    {
      "cell_type": "code",
      "source": [
        "from google.colab import drive\n",
        "drive.mount('/content/drive')"
      ],
      "metadata": {
        "colab": {
          "base_uri": "https://localhost:8080/"
        },
        "id": "AyYSMScwbQrE",
        "outputId": "e3e242f4-0df1-4638-833c-827165a000db"
      },
      "execution_count": 11,
      "outputs": [
        {
          "output_type": "stream",
          "name": "stdout",
          "text": [
            "Drive already mounted at /content/drive; to attempt to forcibly remount, call drive.mount(\"/content/drive\", force_remount=True).\n"
          ]
        }
      ]
    },
    {
      "cell_type": "markdown",
      "source": [
        "Подготовка изображений"
      ],
      "metadata": {
        "id": "V4oWErUTom2e"
      }
    },
    {
      "cell_type": "code",
      "execution_count": 12,
      "metadata": {
        "id": "5sjJ4-7Sm-Cr",
        "colab": {
          "base_uri": "https://localhost:8080/",
          "height": 35
        },
        "outputId": "76fb9a9b-06ed-4dd5-efb4-37eb47685b3e"
      },
      "outputs": [
        {
          "output_type": "execute_result",
          "data": {
            "text/plain": [
              "'Iris_ID.zip'"
            ],
            "application/vnd.google.colaboratory.intrinsic+json": {
              "type": "string"
            }
          },
          "metadata": {},
          "execution_count": 12
        }
      ],
      "source": [
        "# Подключение модуля для загрузки данных из облака\n",
        "import gdown \n",
        "\n",
        "# Загрузка zip-архива с датасетом из облака на диск виртуальной машины colab\n",
        "gdown.download('https://drive.google.com/uc?id=1-cVSZZ-qzSIBpxZRR5QcaUsotGFQY3Wh', None, quiet=True)"
      ]
    },
    {
      "cell_type": "markdown",
      "source": [
        "Распакуем данные и зададим имя папки с ними:"
      ],
      "metadata": {
        "id": "aNfUgPIxqcps"
      }
    },
    {
      "cell_type": "code",
      "source": [
        "# Разархивация датасета в директорию 'content/'\n",
        "!unzip -qo \"Iris_ID.zip\" -d /content/\n",
        "\n",
        "# Папка с картинками\n",
        "IMAGE_PATH = '/content/'"
      ],
      "metadata": {
        "id": "f0aqVDb5qk6F"
      },
      "execution_count": 13,
      "outputs": []
    },
    {
      "cell_type": "markdown",
      "source": [
        "Теперь посмотрим, что находится в загруженной базе. Для этого функцией listdir() из модуля os получим список папок по адресу IMAGE_PATH:"
      ],
      "metadata": {
        "id": "xNvMuLYRrdmr"
      }
    },
    {
      "cell_type": "code",
      "source": [
        "# Для работы с файлами\n",
        "import os\n",
        "import zipfile\n",
        "os.listdir(IMAGE_PATH)"
      ],
      "metadata": {
        "colab": {
          "base_uri": "https://localhost:8080/"
        },
        "id": "ZU1V-hjtrl_s",
        "outputId": "54825f8d-e0e8-4273-e92e-6e7bd883f1df"
      },
      "execution_count": 14,
      "outputs": [
        {
          "output_type": "execute_result",
          "data": {
            "text/plain": [
              "['.config',\n",
              " 'iris9_16.zip',\n",
              " 'iris41_48.zip',\n",
              " 'drive',\n",
              " 'iris33_40.zip',\n",
              " 'iris25_32.zip',\n",
              " 'iris57_64.zip',\n",
              " 'iris17_24.zip',\n",
              " 'Iris_ID.zip',\n",
              " 'iris49_56.zip',\n",
              " 'iris1_8.zip',\n",
              " 'sample_data']"
            ]
          },
          "metadata": {},
          "execution_count": 14
        }
      ]
    },
    {
      "cell_type": "markdown",
      "source": [
        "Распаковка изображений"
      ],
      "metadata": {
        "id": "HOdg9RFzV7K7"
      }
    },
    {
      "cell_type": "code",
      "source": [
        "def unpack_archives(folder_path, output_path):\n",
        "    for filename in os.listdir(folder_path):\n",
        "        file_path = os.path.join(folder_path, filename)\n",
        "        folder_name = filename.replace(\".zip\", \"\")\n",
        "        \n",
        "        if zipfile.is_zipfile(file_path):\n",
        "            with zipfile.ZipFile(file_path, 'r') as zip_file:\n",
        "                \n",
        "                zip_file.extractall(f\"{output_path}\")     "
      ],
      "metadata": {
        "id": "MhLB9GQlWAuz"
      },
      "execution_count": 15,
      "outputs": []
    },
    {
      "cell_type": "code",
      "source": [
        "folder_path = '/content/drive/MyDrive/Университет ИИ/6 стажир1 Радужка/'\n",
        "# folder_path = 'https://drive.google.com/file/d/1-cVSZZ-qzSIBpxZRR5QcaUsotGFQY3Wh/view?usp=sharing'\n",
        "output_path = '/content/IrisDataSource/patients/'\n",
        "result_path = '/content/IrisDataSource/patients_flat/'\n",
        "unpack_archives(folder_path, output_path)"
      ],
      "metadata": {
        "id": "2UQ5j-iNWyhL"
      },
      "execution_count": 17,
      "outputs": []
    },
    {
      "cell_type": "markdown",
      "source": [],
      "metadata": {
        "id": "BK5fMH5gbIl2"
      }
    },
    {
      "cell_type": "markdown",
      "source": [
        "# Просмотр списка файлов "
      ],
      "metadata": {
        "id": "fuG5WRBQdlYm"
      }
    },
    {
      "cell_type": "code",
      "source": [],
      "metadata": {
        "id": "_m8yMvX8dsus"
      },
      "execution_count": null,
      "outputs": []
    },
    {
      "cell_type": "code",
      "source": [
        "# Получаем список всех файлов в папке и ее подпапках\n",
        "file_list = []\n",
        "for root, dirs, files in os.walk(output_path):\n",
        "    for file in files:\n",
        "        file_list.append(os.path.join(root, file))\n",
        "\n",
        "# Итерируемся по всем файлам и извлекаем числа из имен файлов\n",
        "labels = []    \n",
        "iris_images = []  \n",
        "\n",
        "for file_path in file_list:\n",
        "    # Получаем имя файла без расширения\n",
        "    filename = os.path.splitext(os.path.basename(file_path))[0]\n",
        "    fileext = os.path.splitext(os.path.basename(file_path))[1]\n",
        "    # Получаем первые три числа из имени файла и убираем ведущие нули\n",
        "    patient_num = int(''.join(filter(str.isdigit, filename))[:3])\n",
        "    iris_images.append(filename+fileext)\n",
        "    labels.append(patient_num)\n",
        "\n"
      ],
      "metadata": {
        "id": "iAnxz-rz7XEP"
      },
      "execution_count": 18,
      "outputs": []
    },
    {
      "cell_type": "code",
      "source": [
        "print('В массив собрано ', len(iris_images), ' фотографий')\n",
        "print(iris_images)\n",
        "print(labels)"
      ],
      "metadata": {
        "colab": {
          "base_uri": "https://localhost:8080/"
        },
        "id": "q-a-X540T146",
        "outputId": "3db0516a-2c2f-4c41-938a-fa72af33c416"
      },
      "execution_count": null,
      "outputs": [
        {
          "output_type": "stream",
          "name": "stdout",
          "text": [
            "В массив собрано  384  фотографий\n",
            "['005R_3.png', '032L_1.png', '013L_3.png', '054R_2.png', '038L_3.png', '059L_1.png', '003R_1.png', '010R_3.png', '017R_2.png', '016R_1.png', '023R_1.png', '061L_1.png', '058R_3.png', '058L_1.png', '032R_1.png', '030L_1.png', '008L_2.png', '010L_3.png', '052R_2.png', '057R_1.png', '012L_2.png', '062R_2.png', '021R_1.png', '028R_3.png', '052R_1.png', '056R_1.png', '029L_3.png', '051L_2.png', '026L_2.png', '019L_1.png', '045R_1.png', '027R_3.png', '032R_3.png', '061R_3.png', '047L_3.png', '031R_3.png', '064L_2.png', '003L_2.png', '038L_2.png', '035R_1.png', '049R_2.png', '050L_3.png', '031L_1.png', '019R_2.png', '009R_1.png', '025L_2.png', '051R_3.png', '044L_3.png', '021R_3.png', '062L_1.png', '042R_3.png', '010L_1.png', '011R_3.png', '052L_1.png', '048L_3.png', '015R_3.png', '063R_2.png', '007R_3.png', '026R_2.png', '047L_1.png', '026R_3.png', '029L_2.png', '023L_1.png', '012R_1.png', '003L_1.png', '001R_1.png', '057R_3.png', '037R_1.png', '040L_3.png', '028L_2.png', '029R_3.png', '063L_1.png', '012R_2.png', '022R_1.png', '057R_2.png', '051L_3.png', '034R_2.png', '016L_1.png', '005L_3.png', '055L_2.png', '014R_2.png', '016L_3.png', '056R_3.png', '006L_2.png', '061R_2.png', '030L_3.png', '025L_3.png', '039L_3.png', '053L_3.png', '009R_3.png', '019R_1.png', '041R_2.png', '048R_2.png', '036R_2.png', '006R_3.png', '051R_2.png', '043R_2.png', '018R_2.png', '011L_2.png', '021L_3.png', '063R_3.png', '013L_1.png', '006L_1.png', '023R_2.png', '019L_3.png', '047R_1.png', '002R_2.png', '036R_1.png', '051R_1.png', '007L_2.png', '028L_3.png', '003L_3.png', '053L_2.png', '018R_3.png', '064L_3.png', '053R_1.png', '029R_1.png', '042R_1.png', '046L_2.png', '041L_3.png', '004R_3.png', '050L_2.png', '002R_3.png', '050R_3.png', '057L_1.png', '033L_2.png', '049L_1.png', '054L_2.png', '007R_1.png', '036L_1.png', '007L_3.png', '031R_2.png', '015R_1.png', '029L_1.png', '055L_3.png', '010L_2.png', '013R_1.png', '011R_1.png', '031R_1.png', '038R_1.png', '033R_1.png', '042L_3.png', '001L_1.png', '003R_3.png', '037R_3.png', '028R_1.png', '048R_3.png', '023L_2.png', '022L_3.png', '034R_3.png', '028L_1.png', '052L_3.png', '037L_2.png', '046R_3.png', '004R_1.png', '046R_1.png', '041R_1.png', '022R_3.png', '043R_1.png', '036L_2.png', '023R_3.png', '020R_2.png', '040L_2.png', '034L_3.png', '053R_2.png', '051L_1.png', '033L_1.png', '012L_3.png', '037L_3.png', '048L_2.png', '040L_1.png', '011L_1.png', '005R_2.png', '058R_1.png', '044R_3.png', '060L_1.png', '037L_1.png', '014L_3.png', '056R_2.png', '022L_2.png', '041L_2.png', '024L_2.png', '061L_3.png', '055L_1.png', '047R_3.png', '013L_2.png', '027L_3.png', '013R_2.png', '016L_2.png', '045R_2.png', '029R_2.png', '027L_2.png', '059R_3.png', '006R_2.png', '021R_2.png', '022L_1.png', '047L_2.png', '021L_1.png', '026R_1.png', '035L_3.png', '053L_1.png', '039R_3.png', '042R_2.png', '039R_1.png', '043L_2.png', '020R_3.png', '038R_2.png', '002L_3.png', '014R_3.png', '001R_3.png', '017L_1.png', '055R_2.png', '063L_3.png', '047R_2.png', '007L_1.png', '017R_3.png', '034L_2.png', '035R_3.png', '049R_3.png', '039L_1.png', '040R_3.png', '060R_3.png', '062L_2.png', '052L_2.png', '005L_1.png', '017L_3.png', '009L_3.png', '056L_3.png', '046L_3.png', '062L_3.png', '033L_3.png', '008R_3.png', '036R_3.png', '034L_1.png', '006L_3.png', '055R_1.png', '025R_1.png', '063R_1.png', '025L_1.png', '030L_2.png', '045L_1.png', '027R_1.png', '060R_2.png', '032L_2.png', '008R_1.png', '059R_1.png', '041R_3.png', '042L_1.png', '016R_2.png', '004R_2.png', '015L_3.png', '005R_1.png', '035R_2.png', '018L_1.png', '054L_1.png', '013R_3.png', '040R_1.png', '020L_1.png', '009R_2.png', '060R_1.png', '056L_2.png', '041L_1.png', '020R_1.png', '018L_3.png', '054R_3.png', '026L_3.png', '032L_3.png', '031L_3.png', '046L_1.png', '024R_1.png', '045L_2.png', '027R_2.png', '038R_3.png', '022R_2.png', '039L_2.png', '019L_2.png', '009L_2.png', '055R_3.png', '044R_1.png', '063L_2.png', '037R_2.png', '005L_2.png', '059L_3.png', '028R_2.png', '046R_2.png', '033R_2.png', '015L_1.png', '012L_1.png', '061L_2.png', '002L_2.png', '024R_2.png', '011L_3.png', '010R_1.png', '060L_2.png', '058R_2.png', '025R_3.png', '050L_1.png', '004L_3.png', '002R_1.png', '064R_3.png', '056L_1.png', '026L_1.png', '001R_2.png', '030R_2.png', '050R_2.png', '044L_2.png', '007R_2.png', '015R_2.png', '030R_3.png', '004L_2.png', '018R_1.png', '027L_1.png', '021L_2.png', '044R_2.png', '009L_1.png', '060L_3.png', '054R_1.png', '062R_1.png', '001L_3.png', '049R_1.png', '064R_1.png', '054L_3.png', '043L_3.png', '018L_2.png', '017R_1.png', '032R_2.png', '002L_1.png', '059L_2.png', '017L_2.png', '024L_1.png', '030R_1.png', '008L_3.png', '059R_2.png', '036L_3.png', '024L_3.png', '023L_3.png', '040R_2.png', '064L_1.png', '045R_3.png', '043L_1.png', '061R_1.png', '052R_3.png', '050R_1.png', '044L_1.png', '008R_2.png', '020L_2.png', '019R_3.png', '020L_3.png', '014L_1.png', '048R_1.png', '024R_3.png', '057L_2.png', '053R_3.png', '031L_2.png', '038L_1.png', '049L_2.png', '003R_2.png', '008L_1.png', '034R_1.png', '011R_2.png', '062R_3.png', '001L_2.png', '049L_3.png', '014L_2.png', '014R_1.png', '015L_2.png', '058L_3.png', '042L_2.png', '033R_3.png', '025R_2.png', '006R_1.png', '035L_1.png', '012R_3.png', '058L_2.png', '035L_2.png', '010R_2.png', '064R_2.png', '039R_2.png', '048L_1.png', '045L_3.png', '004L_1.png', '057L_3.png', '043R_3.png', '016R_3.png']\n",
            "[5, 32, 13, 54, 38, 59, 3, 10, 17, 16, 23, 61, 58, 58, 32, 30, 8, 10, 52, 57, 12, 62, 21, 28, 52, 56, 29, 51, 26, 19, 45, 27, 32, 61, 47, 31, 64, 3, 38, 35, 49, 50, 31, 19, 9, 25, 51, 44, 21, 62, 42, 10, 11, 52, 48, 15, 63, 7, 26, 47, 26, 29, 23, 12, 3, 1, 57, 37, 40, 28, 29, 63, 12, 22, 57, 51, 34, 16, 5, 55, 14, 16, 56, 6, 61, 30, 25, 39, 53, 9, 19, 41, 48, 36, 6, 51, 43, 18, 11, 21, 63, 13, 6, 23, 19, 47, 2, 36, 51, 7, 28, 3, 53, 18, 64, 53, 29, 42, 46, 41, 4, 50, 2, 50, 57, 33, 49, 54, 7, 36, 7, 31, 15, 29, 55, 10, 13, 11, 31, 38, 33, 42, 1, 3, 37, 28, 48, 23, 22, 34, 28, 52, 37, 46, 4, 46, 41, 22, 43, 36, 23, 20, 40, 34, 53, 51, 33, 12, 37, 48, 40, 11, 5, 58, 44, 60, 37, 14, 56, 22, 41, 24, 61, 55, 47, 13, 27, 13, 16, 45, 29, 27, 59, 6, 21, 22, 47, 21, 26, 35, 53, 39, 42, 39, 43, 20, 38, 2, 14, 1, 17, 55, 63, 47, 7, 17, 34, 35, 49, 39, 40, 60, 62, 52, 5, 17, 9, 56, 46, 62, 33, 8, 36, 34, 6, 55, 25, 63, 25, 30, 45, 27, 60, 32, 8, 59, 41, 42, 16, 4, 15, 5, 35, 18, 54, 13, 40, 20, 9, 60, 56, 41, 20, 18, 54, 26, 32, 31, 46, 24, 45, 27, 38, 22, 39, 19, 9, 55, 44, 63, 37, 5, 59, 28, 46, 33, 15, 12, 61, 2, 24, 11, 10, 60, 58, 25, 50, 4, 2, 64, 56, 26, 1, 30, 50, 44, 7, 15, 30, 4, 18, 27, 21, 44, 9, 60, 54, 62, 1, 49, 64, 54, 43, 18, 17, 32, 2, 59, 17, 24, 30, 8, 59, 36, 24, 23, 40, 64, 45, 43, 61, 52, 50, 44, 8, 20, 19, 20, 14, 48, 24, 57, 53, 31, 38, 49, 3, 8, 34, 11, 62, 1, 49, 14, 14, 15, 58, 42, 33, 25, 6, 35, 12, 58, 35, 10, 64, 39, 48, 45, 4, 57, 43, 16]\n"
          ]
        }
      ]
    }
  ]
}