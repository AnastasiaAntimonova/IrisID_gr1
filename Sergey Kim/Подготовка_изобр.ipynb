{
  "nbformat": 4,
  "nbformat_minor": 0,
  "metadata": {
    "colab": {
      "provenance": [],
      "authorship_tag": "ABX9TyP2ULtNBeEBQIEf4TBrs26o",
      "include_colab_link": true
    },
    "kernelspec": {
      "name": "python3",
      "display_name": "Python 3"
    },
    "language_info": {
      "name": "python"
    }
  },
  "cells": [
    {
      "cell_type": "markdown",
      "metadata": {
        "id": "view-in-github",
        "colab_type": "text"
      },
      "source": [
        "<a href=\"https://colab.research.google.com/github/Untick/IrisID_gr1/blob/Sergey-Kim-folder/Sergey%20Kim/%D0%9F%D0%BE%D0%B4%D0%B3%D0%BE%D1%82%D0%BE%D0%B2%D0%BA%D0%B0_%D0%B8%D0%B7%D0%BE%D0%B1%D1%80.ipynb\" target=\"_parent\"><img src=\"https://colab.research.google.com/assets/colab-badge.svg\" alt=\"Open In Colab\"/></a>"
      ]
    },
    {
      "cell_type": "markdown",
      "source": [
        "Подготовка изображений"
      ],
      "metadata": {
        "id": "V4oWErUTom2e"
      }
    },
    {
      "cell_type": "code",
      "execution_count": 1,
      "metadata": {
        "id": "5sjJ4-7Sm-Cr",
        "colab": {
          "base_uri": "https://localhost:8080/",
          "height": 35
        },
        "outputId": "17daa6b9-ba15-41c3-cb24-44def9f6b790"
      },
      "outputs": [
        {
          "output_type": "execute_result",
          "data": {
            "text/plain": [
              "'Iris_ID.zip'"
            ],
            "application/vnd.google.colaboratory.intrinsic+json": {
              "type": "string"
            }
          },
          "metadata": {},
          "execution_count": 1
        }
      ],
      "source": [
        "# Подключение модуля для загрузки данных из облака\n",
        "import gdown \n",
        "\n",
        "# Загрузка zip-архива с датасетом из облака на диск виртуальной машины colab\n",
        "gdown.download('https://drive.google.com/uc?id=1-cVSZZ-qzSIBpxZRR5QcaUsotGFQY3Wh', None, quiet=True)"
      ]
    },
    {
      "cell_type": "markdown",
      "source": [
        "Распакуем данные и зададим имя папки с ними:"
      ],
      "metadata": {
        "id": "aNfUgPIxqcps"
      }
    },
    {
      "cell_type": "code",
      "source": [
        "# Разархивация датасета в директорию 'content/'\n",
        "!unzip -qo \"Iris_ID.zip\" -d /content/\n",
        "\n",
        "# Папка с картинками\n",
        "IMAGE_PATH = '/content/'"
      ],
      "metadata": {
        "id": "f0aqVDb5qk6F"
      },
      "execution_count": 2,
      "outputs": []
    },
    {
      "cell_type": "markdown",
      "source": [
        "Теперь посмотрим, что находится в загруженной базе. Для этого функцией listdir() из модуля os получим список папок по адресу IMAGE_PATH:"
      ],
      "metadata": {
        "id": "xNvMuLYRrdmr"
      }
    },
    {
      "cell_type": "code",
      "source": [
        "# Для работы с файлами\n",
        "import os\n",
        "\n",
        "os.listdir(IMAGE_PATH)"
      ],
      "metadata": {
        "colab": {
          "base_uri": "https://localhost:8080/"
        },
        "id": "ZU1V-hjtrl_s",
        "outputId": "cfc67572-408a-4284-f81c-ae7803386956"
      },
      "execution_count": 3,
      "outputs": [
        {
          "output_type": "execute_result",
          "data": {
            "text/plain": [
              "['.config',\n",
              " 'iris9_16.zip',\n",
              " 'iris41_48.zip',\n",
              " 'iris33_40.zip',\n",
              " 'iris25_32.zip',\n",
              " 'iris57_64.zip',\n",
              " 'iris17_24.zip',\n",
              " 'Iris_ID.zip',\n",
              " 'iris49_56.zip',\n",
              " 'iris1_8.zip',\n",
              " 'sample_data']"
            ]
          },
          "metadata": {},
          "execution_count": 3
        }
      ]
    }
  ]
}