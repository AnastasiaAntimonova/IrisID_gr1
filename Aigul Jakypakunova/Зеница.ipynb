{
  "nbformat": 4,
  "nbformat_minor": 0,
  "metadata": {
    "colab": {
      "provenance": [],
      "authorship_tag": "ABX9TyNvbn8zjy6N7MqqwZZbFXjr",
      "include_colab_link": true
    },
    "kernelspec": {
      "name": "python3",
      "display_name": "Python 3"
    },
    "language_info": {
      "name": "python"
    }
  },
  "cells": [
    {
      "cell_type": "markdown",
      "metadata": {
        "id": "view-in-github",
        "colab_type": "text"
      },
      "source": [
        "<a href=\"https://colab.research.google.com/github/Untick/IrisID_gr1/blob/Aigul-Jakypakunova-folder/Aigul%20Jakypakunova/%D0%97%D0%B5%D0%BD%D0%B8%D1%86%D0%B0.ipynb\" target=\"_parent\"><img src=\"https://colab.research.google.com/assets/colab-badge.svg\" alt=\"Open In Colab\"/></a>"
      ]
    },
    {
      "cell_type": "code",
      "source": [
        "# Работа с массивами\n",
        "import numpy as np\n",
        "\n",
        "# Генератор аугментированных изображений\n",
        "from tensorflow.keras.preprocessing.image import ImageDataGenerator\n",
        "\n",
        "# Основа для создания последовательной модели\n",
        "from tensorflow.keras.models import Sequential\n",
        "\n",
        "# Основные слои\n",
        "from tensorflow.keras.layers import Dense, Conv2D, MaxPooling2D, Flatten, Dropout, BatchNormalization\n",
        "\n",
        "# Оптимизатор\n",
        "from tensorflow.keras.optimizers import Adam\n",
        "\n",
        "# Матрица ошибок классификатора\n",
        "from sklearn.metrics import confusion_matrix, ConfusionMatrixDisplay\n",
        "\n",
        "# Подключение модуля для загрузки данных из облака\n",
        "import gdown\n",
        "\n",
        "# Инструменты для работы с файлами\n",
        "import os\n",
        "\n",
        "# Отрисовка графиков\n",
        "import matplotlib.pyplot as plt\n",
        "\n",
        "# Рисование графиков в ячейках Colab\n",
        "%matplotlib inline\n",
        "\n",
        "import time \n",
        "from google.colab import drive\n",
        "drive.mount('/content/drive')\n",
        "\n",
        "# Загрузка zip-архива с датасетом из облака на диск виртуальной машины colab\n",
        "\n",
        "drive.mount('TRAIN_DIRECTORY')\n",
        "\n"
      ],
      "metadata": {
        "colab": {
          "base_uri": "https://localhost:8080/"
        },
        "id": "Fa4BCD81F9-I",
        "outputId": "488ba23d-9b2b-4220-ba65-145f3810b2bc"
      },
      "execution_count": 81,
      "outputs": [
        {
          "output_type": "stream",
          "name": "stdout",
          "text": [
            "Drive already mounted at /content/drive; to attempt to forcibly remount, call drive.mount(\"/content/drive\", force_remount=True).\n",
            "Mounted at TRAIN_DIRECTORY\n"
          ]
        }
      ]
    },
    {
      "cell_type": "code",
      "source": [
        "TRAIN_PATH = '/content/TRAIN_DIRECTORY'             # Папка для обучающего набора данных\n",
        "TEST_PATH  = '/content/TRAIN_DIRECTORY'  # Папка для тестового набора данных\n",
        "\n",
        "TEST_SPLIT          = 0.2                 # Доля тестовых данных в общем наборе\n",
        "VAL_SPLIT           = 0.2                   # Доля проверочной выборки в обучающем наборе\n",
        "\n",
        "IMG_WIDTH           = 192                   # Ширина изображения для нейросети\n",
        "IMG_HEIGHT          = 144                   # Высота изображения для нейросети\n",
        "IMG_CHANNELS        = 3                     # Количество каналов (для RGB равно 3, для Grey равно 1)\n",
        "\n",
        "# Параметры аугментации\n",
        "ROTATION_RANGE      = 8                     # Пределы поворота\n",
        "WIDTH_SHIFT_RANGE   = 0.15                  # Пределы сдвига по горизонтали\n",
        "HEIGHT_SHIFT_RANGE  = 0.15                  # Пределы сдвига по вертикали\n",
        "ZOOM_RANGE          = 0.15                  # Пределы увеличения/уменьшения\n",
        "BRIGHTNESS_RANGE    = (0.7, 1.3)            # Пределы изменения яркости\n",
        "HORIZONTAL_FLIP     = False                 # Горизонтальное отражение разрешено\n",
        "\n",
        "EPOCHS              = 600                   # Число эпох обучения\n",
        "BATCH_SIZE          = 8                     # Размер батча для обучения модели\n",
        "OPTIMIZER           = Adam(0.0001)          # Оптимизатор\n",
        "     "
      ],
      "metadata": {
        "id": "zQ-JNPaJFUwL"
      },
      "execution_count": 82,
      "outputs": []
    },
    {
      "cell_type": "code",
      "source": [
        "# Определение списка имен классов\n",
        "CLASS_LIST = sorted(os.listdir(TRAIN_PATH))\n",
        "\n",
        "# Определение количества классов\n",
        "CLASS_COUNT = len(CLASS_LIST)\n",
        "\n",
        "# Проверка результата\n",
        "print(f'Количество классов: {CLASS_COUNT}, метки классов: {CLASS_LIST}')"
      ],
      "metadata": {
        "colab": {
          "base_uri": "https://localhost:8080/"
        },
        "id": "B_MOh2d-GL6V",
        "outputId": "0d52b7d2-f993-419b-fa35-ff0880142b35"
      },
      "execution_count": 85,
      "outputs": [
        {
          "output_type": "stream",
          "name": "stdout",
          "text": [
            "Количество классов: 4, метки классов: ['.Trash-0', '.file-revisions-by-id', '.shortcut-targets-by-id', 'MyDrive']\n"
          ]
        }
      ]
    }
  ]
}