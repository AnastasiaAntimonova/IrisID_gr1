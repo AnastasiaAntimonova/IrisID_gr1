{
  "nbformat": 4,
  "nbformat_minor": 0,
  "metadata": {
    "colab": {
      "provenance": [],
      "authorship_tag": "ABX9TyPi/6ubT4rvGDqS8EFiVTgN",
      "include_colab_link": true
    },
    "kernelspec": {
      "name": "python3",
      "display_name": "Python 3"
    },
    "language_info": {
      "name": "python"
    }
  },
  "cells": [
    {
      "cell_type": "markdown",
      "metadata": {
        "id": "view-in-github",
        "colab_type": "text"
      },
      "source": [
        "<a href=\"https://colab.research.google.com/github/Untick/IrisID_gr1/blob/Aigul-Jakypakunova-folder/%D0%97%D0%B5%D0%BD%D0%B8%D1%86%D0%B0.ipynb\" target=\"_parent\"><img src=\"https://colab.research.google.com/assets/colab-badge.svg\" alt=\"Open In Colab\"/></a>"
      ]
    },
    {
      "cell_type": "code",
      "source": [
        "import tensorflow as tf\n",
        "\n",
        "# Сеть прямого распространения\n",
        "from tensorflow.keras.models import Sequential \n",
        "\n",
        "# Базовые слои для свёрточных сетей\n",
        "from tensorflow.keras.layers import Dense, Conv2D, MaxPooling2D, Flatten, Dropout, BatchNormalization\n",
        "\n",
        "# Работа с изображениями\n",
        "from tensorflow.keras.preprocessing.image import ImageDataGenerator \n",
        "\n",
        "# Оптимизаторы\n",
        "from tensorflow.keras.optimizers import Adam     \n",
        "\n",
        "# Используем для to_categoricall\n",
        "from tensorflow.keras import utils               \n",
        "\n",
        "# Для отрисовки изображений\n",
        "from tensorflow.keras.preprocessing import image \n",
        "\n",
        "from tensorflow.keras.callbacks import ModelCheckpoint\n",
        "\n",
        "# для разделения выборок\n",
        "from sklearn.model_selection import train_test_split\n",
        "\n",
        "# Библиотека работы с массивами\n",
        "import numpy as np\n",
        "\n",
        "# Для отрисовки графиков\n",
        "import matplotlib.pyplot as plt                  \n",
        "\n",
        "# Для отрисовки изображений\n",
        "from PIL import Image, ImageEnhance                       \n",
        "\n",
        "# Для генерации случайных чисел \n",
        "import random                                    \n",
        "\n",
        "# Для округления\n",
        "import math                                      \n",
        "\n",
        "# Для работы с файлами \n",
        "import os\n",
        "import shutil\n",
        "import zipfile     \n",
        "\n",
        "# модуль для отсчета времени\n",
        "import time                                   \n",
        "\n",
        "# импорт tensorflow\n",
        "import tensorflow as tf\n",
        "# Для работы с файлами\n",
        "import gc\n",
        "\n",
        "import gdown\n",
        "\n",
        "import numpy as np\n",
        "import cv2\n",
        "from scipy import ndimage\n",
        "import math\n",
        "import random\n",
        "\n",
        "from google.colab.patches import cv2_imshow\n",
        "\n",
        "# модуль для отсчета времени\n",
        "import time \n",
        "from google.colab import drive\n",
        "# Загрузка zip-архива с датасетом из облака на диск виртуальной машины colab\n",
        "drive.mount('Eye_2')"
      ],
      "metadata": {
        "colab": {
          "base_uri": "https://localhost:8080/"
        },
        "id": "r9Y24VS8VG0P",
        "outputId": "3f9d7e26-96a6-4262-92ef-da9cca799cc9"
      },
      "execution_count": null,
      "outputs": [
        {
          "output_type": "stream",
          "name": "stdout",
          "text": [
            "Mounted at Eye_2\n"
          ]
        }
      ]
    },
    {
      "cell_type": "code",
      "source": [
        "data_dir = 'Eye_2'              # Путь к базе\n",
        "os.listdir(data_dir)                                    # Список папок\n",
        "batch_size= 48\n",
        "image_size= (1920, 1080)"
      ],
      "metadata": {
        "id": "tsz9DtvADGJJ"
      },
      "execution_count": null,
      "outputs": []
    },
    {
      "cell_type": "code",
      "source": [
        "def unwrap_circular_image(image):\n",
        "\n",
        "    # Берем центр изображения\n",
        "    height, width = image.shape[:2]\n",
        "    center_x, center_y = width // 2, height // 2\n",
        "\n",
        "    # Вычисляем максимальный радиус окружности\n",
        "    max_radius = min(center_x, center_y)\n",
        "\n",
        "    # Создаем новое изображение с теми же размерами, что и исходное изображение.\n",
        "    unwrapped_image = np.zeros((2 * max_radius, 2 * max_radius, 3), dtype=np.uint8)\n",
        "\n",
        "    # Итерируемся по каждому пикселю в новом изображении\n",
        "    for y in range(unwrapped_image.shape[0]):\n",
        "        for x in range(unwrapped_image.shape[1]):\n",
        "            # Преобразуем координаты (x, y) в полярные\n",
        "            r = np.sqrt((x - max_radius) ** 2 + (y - max_radius) ** 2)\n",
        "            theta = np.arctan2(y - max_radius, x - max_radius)\n",
        "\n",
        "            # Вычислим соответствующие (x, y) координаты в исходном изображении\n",
        "            orig_x = int(center_x + r * np.cos(theta))\n",
        "            orig_y = int(center_y + r * np.sin(theta))\n",
        "\n",
        "            # Копируем значение пикселя из исходного изображения в новое изображение.\n",
        "            if orig_x >= 0 and orig_x < width and orig_y >= 0 and orig_y < height:\n",
        "                unwrapped_image[y, x] = image[orig_y, orig_x]\n",
        "\n",
        "\n",
        "    return unwrapped_image"
      ],
      "metadata": {
        "id": "ucmvJnttaHcX"
      },
      "execution_count": null,
      "outputs": []
    },
    {
      "cell_type": "code",
      "source": [
        "def ring_to_rect(image):\n",
        "\n",
        "  size = image.shape[0]  # assumes square image\n",
        "\n",
        "  outer_radius = size // 2.05\n",
        "  inner_radius_factor = 0.1  # 0.70 measured empirically from image\n",
        "\n",
        "  # Разворачиваем кольцо\n",
        "  warped = cv2.warpPolar(image, (size, int(size * math.pi)), (outer_radius, outer_radius), outer_radius, 0)\n",
        "  # Поворачиваем на 15 градусов\n",
        "  straightened = cv2.rotate(warped, cv2.ROTATE_15_COUNTERCLOCKWISE)\n",
        "  # Обрезаем\n",
        "  cropped = straightened[: int(straightened.shape[0] * (1 - inner_radius_factor)), :]\n",
        "\n",
        "  return cropped\n",
        "     \n"
      ],
      "metadata": {
        "id": "FHaN3r_fGQAu"
      },
      "execution_count": null,
      "outputs": []
    },
    {
      "cell_type": "code",
      "source": [
        "def apply_gaussian_laplacian(image):\n",
        "\n",
        "    ddepth = cv2.CV_16S\n",
        "    kernel_size = 7\n",
        "    \n",
        "    image = cv2.GaussianBlur(image, (3, 3), 0)\n",
        "    image = cv2.cvtColor(image, cv2.COLOR_BGR2GRAY)\n",
        "    image = cv2.Laplacian(image, ddepth, ksize=kernel_size)\n",
        "    image = cv2.convertScaleAbs(image)\n",
        "    \n",
        "    # Возвращаем изображение с примененными фильтром и оператором\n",
        "    return image"
      ],
      "metadata": {
        "id": "hkJ1U-6VGW5T"
      },
      "execution_count": null,
      "outputs": []
    },
    {
      "cell_type": "code",
      "source": [
        "def gabor_features(image, ksize=31, sigma=5, theta=0, lambd=10, gamma=0.5):\n",
        "    \"\"\"\n",
        "    Извлекает функции Габора из входного изображения в градациях серого с использованием фильтров Габора.\n",
        "    :param image: Входное изображение в оттенках серого в виде массива NumPy.\n",
        "    :param ksize: Размер ядра фильтра Габора.\n",
        "    :param sigma: Стандартное отклонение конверта Гаусса.\n",
        "    :param theta: Ориентация фильтра Габора в градусах.\n",
        "    :param lambd: Длина волны синусоидального фактора.\n",
        "    :param gamma: Пространственное соотношение сторон.\n",
        "    :return: Обработанное изображение.\n",
        "    \"\"\"\n",
        "    # Создаем ядро фильтра Габора\n",
        "    kernel = cv2.getGaborKernel((ksize, ksize), sigma, theta, lambd, gamma, 0, ktype=cv2.CV_32F)\n",
        "\n",
        "    # Применияем фильтр Габора к входному изображению\n",
        "    filtered = cv2.filter2D(image, cv2.CV_32F, kernel)\n",
        "\n",
        "    # # Вычисляем среднее значение и стандартное отклонение отфильтрованного изображения\n",
        "    mean, std = cv2.meanStdDev(filtered)\n",
        "\n",
        "    # # Нормализуем отфильтрованное изображение\n",
        "    normalized = (filtered - mean) / std\n",
        "\n",
        "    # # Вычисляем величину и фазу сложного отклика вейвлета\n",
        "    magnitude, phase = cv2.cartToPolar(np.real(normalized), np.imag(normalized))\n",
        "\n",
        "    # # Вычисляем среднее значение и стандартное отклонение изображения магнитуды\n",
        "    mean_mag, std_mag = cv2.meanStdDev(magnitude)\n",
        "\n",
        "    # # Вычисляем среднее значение и стандартное отклонение фазового изображения\n",
        "    mean_phase, std_phase = cv2.meanStdDev(phase)\n",
        "\n",
        "    # # Объединяем вектор признаков\n",
        "    feature_vector = np.concatenate((mean_mag, std_mag, mean_phase, std_phase))\n",
        "\n",
        "    # # Преобразуем вектора признаков в изображение\n",
        "    img_size = int(np.sqrt(len(feature_vector)))\n",
        "    feature_image = feature_vector.reshape((img_size, img_size))\n",
        "\n",
        "    return filtered\n"
      ],
      "metadata": {
        "id": "Ep71lBusGZMY"
      },
      "execution_count": null,
      "outputs": []
    },
    {
      "cell_type": "code",
      "source": [
        "# Получаем список всех файлов в папке и ее подпапках\n",
        "import os\n",
        "\n",
        "global Eye_2\n",
        "\n",
        "\n",
        "file_list = []\n",
        "for root, dirs, files in os.walk('Eye_2'):\n",
        "    for file in files:\n",
        "        file_list.append(os.path.join(root, file))\n",
        "\n",
        "# Итерируемся по всем файлам и извлекаем числа из имен файлов\n",
        "labels = []    \n",
        "iris_images = []  \n",
        "\n",
        "for file_path in file_list:\n",
        "    # Получаем имя файла без расширения\n",
        "    \n",
        "    filename = os.path.splitext(os.path.basename(file_path))[0]\n",
        "    filetext = os.path.splitext(os.path.basename(file_path))[1]\n",
        "    # Получаем первые три числа из имени файла и убираем ведущие нули\n",
        "    patient_num = int(''.join(filter(str.isdigit, filename))[:3])\n",
        "    iris_images.append(filename+filetext)\n",
        "    labels.append(patient_num)\n",
        "\n",
        "\n"
      ],
      "metadata": {
        "id": "IgD8ogLQGyYD"
      },
      "execution_count": null,
      "outputs": []
    },
    {
      "cell_type": "code",
      "source": [
        "\n",
        "print('В массив собрано ', len(iris_images), ' фотографий')\n",
        "print(iris_images)\n",
        "print(labels)\n",
        "     "
      ],
      "metadata": {
        "colab": {
          "base_uri": "https://localhost:8080/"
        },
        "id": "ySP7f32RIIvL",
        "outputId": "31fc78e0-f040-4244-ffc5-7174346c1215"
      },
      "execution_count": null,
      "outputs": [
        {
          "output_type": "stream",
          "name": "stdout",
          "text": [
            "В массив собрано  0  фотографий\n",
            "[]\n",
            "[]\n"
          ]
        }
      ]
    },
    {
      "cell_type": "code",
      "source": [
        "num_classes = 128"
      ],
      "metadata": {
        "id": "IyJksZYQfv3V"
      },
      "execution_count": null,
      "outputs": []
    },
    {
      "cell_type": "code",
      "source": [
        "# задаем желаемый размеры\n",
        "scale_percent = 50                                            # создаем пустой список куда будем собирать массивы\n",
        "\n",
        "iris_images\n",
        "\n",
        "listID = []      # список путей до файлов изображений\n",
        "\n",
        "for iris in iris_images:                          \n",
        "  \n",
        "    # открываем изображение и приводим его к заданному размеру\n",
        "    img_iris = cv2.imread(output_path+iris)\n",
        "    width = int(img_iris.shape[1] * scale_percent / 100)\n",
        "    height = int(img_iris.shape[0] * scale_percent / 100)\n",
        "    dim = (width, height)  \n",
        "\n",
        "    img_iris = cv2.resize(img_iris, dim, interpolation = cv2.INTER_AREA)\n",
        "    img_iris = unwrap_circular_image(img_iris)\n",
        "    img_iris = ring_to_rect(img_iris)  \n",
        "    img_iris = apply_gaussian_laplacian(img_iris)\n",
        "    img_iris = gabor_features(img_iris)\n",
        "    # cv2_imshow(img_iris)\n",
        "    \n",
        "    img_path = result_path + iris\n",
        "    listID.append(img_path) # добавляем в общий список\n",
        "    cv2.imwrite(img_path, img_iris)"
      ],
      "metadata": {
        "id": "JRPM0y8Xf_of"
      },
      "execution_count": null,
      "outputs": []
    }
  ]
}